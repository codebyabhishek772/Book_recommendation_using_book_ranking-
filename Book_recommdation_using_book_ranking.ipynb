{
  "nbformat": 4,
  "nbformat_minor": 0,
  "metadata": {
    "colab": {
      "name": "book_recommdation_using_book_ranking.ipynb",
      "provenance": [],
      "authorship_tag": "ABX9TyMtDy42kR1c1Mef01BSufJj",
      "include_colab_link": true
    },
    "kernelspec": {
      "name": "python3",
      "display_name": "Python 3"
    }
  },
  "cells": [
    {
      "cell_type": "markdown",
      "metadata": {
        "id": "view-in-github",
        "colab_type": "text"
      },
      "source": [
        "<a href=\"https://colab.research.google.com/github/codebyabhishek772/Book_recommendation_using_book_ranking-/blob/master/Book_recommdation_using_book_ranking.ipynb\" target=\"_parent\"><img src=\"https://colab.research.google.com/assets/colab-badge.svg\" alt=\"Open In Colab\"/></a>"
      ]
    },
    {
      "cell_type": "code",
      "metadata": {
        "id": "YkVXcDO1eFB6",
        "colab_type": "code",
        "colab": {}
      },
      "source": [
        "import pandas as pd \n",
        "import numpy as np"
      ],
      "execution_count": 1,
      "outputs": []
    },
    {
      "cell_type": "code",
      "metadata": {
        "id": "-4ISDwTKeQTL",
        "colab_type": "code",
        "colab": {}
      },
      "source": [
        "data = pd.read_csv('listing.csv', encoding = 'latin-1')\n",
        "books= pd.read_csv('books.csv', encoding = 'latin-1')"
      ],
      "execution_count": 2,
      "outputs": []
    },
    {
      "cell_type": "code",
      "metadata": {
        "id": "vpU-rocygfcI",
        "colab_type": "code",
        "colab": {
          "base_uri": "https://localhost:8080/",
          "height": 204
        },
        "outputId": "b7e2a9cc-809c-457f-f7b7-c611f6198ea8"
      },
      "source": [
        "data.head()"
      ],
      "execution_count": 3,
      "outputs": [
        {
          "output_type": "execute_result",
          "data": {
            "text/html": [
              "<div>\n",
              "<style scoped>\n",
              "    .dataframe tbody tr th:only-of-type {\n",
              "        vertical-align: middle;\n",
              "    }\n",
              "\n",
              "    .dataframe tbody tr th {\n",
              "        vertical-align: top;\n",
              "    }\n",
              "\n",
              "    .dataframe thead th {\n",
              "        text-align: right;\n",
              "    }\n",
              "</style>\n",
              "<table border=\"1\" class=\"dataframe\">\n",
              "  <thead>\n",
              "    <tr style=\"text-align: right;\">\n",
              "      <th></th>\n",
              "      <th>book_id</th>\n",
              "      <th>genre</th>\n",
              "      <th>name</th>\n",
              "      <th>author</th>\n",
              "    </tr>\n",
              "  </thead>\n",
              "  <tbody>\n",
              "    <tr>\n",
              "      <th>0</th>\n",
              "      <td>4833</td>\n",
              "      <td>Biographies &amp; Memoirs</td>\n",
              "      <td>The Glass Castle</td>\n",
              "      <td>Jeannette Walls</td>\n",
              "    </tr>\n",
              "    <tr>\n",
              "      <th>1</th>\n",
              "      <td>590</td>\n",
              "      <td>Biographies &amp; Memoirs</td>\n",
              "      <td>Night (The Night Trilogy, #1)</td>\n",
              "      <td>Elie Wiesel</td>\n",
              "    </tr>\n",
              "    <tr>\n",
              "      <th>2</th>\n",
              "      <td>4264</td>\n",
              "      <td>Biographies &amp; Memoirs</td>\n",
              "      <td>Angela's Ashes (Frank McCourt, #1)</td>\n",
              "      <td>Frank McCourt</td>\n",
              "    </tr>\n",
              "    <tr>\n",
              "      <th>3</th>\n",
              "      <td>3361</td>\n",
              "      <td>Biographies &amp; Memoirs</td>\n",
              "      <td>Eat, Pray, Love</td>\n",
              "      <td>Elizabeth Gilbert</td>\n",
              "    </tr>\n",
              "    <tr>\n",
              "      <th>4</th>\n",
              "      <td>4535</td>\n",
              "      <td>Biographies &amp; Memoirs</td>\n",
              "      <td>Into Thin Air: A Personal Account of the Mount...</td>\n",
              "      <td>Jon Krakauer</td>\n",
              "    </tr>\n",
              "  </tbody>\n",
              "</table>\n",
              "</div>"
            ],
            "text/plain": [
              "   book_id  ...             author\n",
              "0     4833  ...    Jeannette Walls\n",
              "1      590  ...        Elie Wiesel\n",
              "2     4264  ...      Frank McCourt\n",
              "3     3361  ...  Elizabeth Gilbert\n",
              "4     4535  ...       Jon Krakauer\n",
              "\n",
              "[5 rows x 4 columns]"
            ]
          },
          "metadata": {
            "tags": []
          },
          "execution_count": 3
        }
      ]
    },
    {
      "cell_type": "code",
      "metadata": {
        "id": "1R7Tf_ssgmzA",
        "colab_type": "code",
        "colab": {
          "base_uri": "https://localhost:8080/",
          "height": 204
        },
        "outputId": "ea80dc11-fb0a-476f-da10-d22f48c8ab20"
      },
      "source": [
        "books.head()"
      ],
      "execution_count": 4,
      "outputs": [
        {
          "output_type": "execute_result",
          "data": {
            "text/html": [
              "<div>\n",
              "<style scoped>\n",
              "    .dataframe tbody tr th:only-of-type {\n",
              "        vertical-align: middle;\n",
              "    }\n",
              "\n",
              "    .dataframe tbody tr th {\n",
              "        vertical-align: top;\n",
              "    }\n",
              "\n",
              "    .dataframe thead th {\n",
              "        text-align: right;\n",
              "    }\n",
              "</style>\n",
              "<table border=\"1\" class=\"dataframe\">\n",
              "  <thead>\n",
              "    <tr style=\"text-align: right;\">\n",
              "      <th></th>\n",
              "      <th>book_id</th>\n",
              "      <th>avg_rating</th>\n",
              "      <th>no_of_ratings</th>\n",
              "      <th>user_id</th>\n",
              "      <th>user_rating</th>\n",
              "    </tr>\n",
              "  </thead>\n",
              "  <tbody>\n",
              "    <tr>\n",
              "      <th>0</th>\n",
              "      <td>4833</td>\n",
              "      <td>4.25</td>\n",
              "      <td>7156.0</td>\n",
              "      <td>3466</td>\n",
              "      <td>0</td>\n",
              "    </tr>\n",
              "    <tr>\n",
              "      <th>1</th>\n",
              "      <td>590</td>\n",
              "      <td>4.31</td>\n",
              "      <td>7821.0</td>\n",
              "      <td>3466</td>\n",
              "      <td>5</td>\n",
              "    </tr>\n",
              "    <tr>\n",
              "      <th>2</th>\n",
              "      <td>4264</td>\n",
              "      <td>4.08</td>\n",
              "      <td>3836.0</td>\n",
              "      <td>3453</td>\n",
              "      <td>5</td>\n",
              "    </tr>\n",
              "    <tr>\n",
              "      <th>3</th>\n",
              "      <td>3361</td>\n",
              "      <td>3.52</td>\n",
              "      <td>1245.0</td>\n",
              "      <td>3453</td>\n",
              "      <td>4</td>\n",
              "    </tr>\n",
              "    <tr>\n",
              "      <th>4</th>\n",
              "      <td>4535</td>\n",
              "      <td>4.13</td>\n",
              "      <td>3107.0</td>\n",
              "      <td>3453</td>\n",
              "      <td>0</td>\n",
              "    </tr>\n",
              "  </tbody>\n",
              "</table>\n",
              "</div>"
            ],
            "text/plain": [
              "   book_id  avg_rating  no_of_ratings  user_id  user_rating\n",
              "0     4833        4.25         7156.0     3466            0\n",
              "1      590        4.31         7821.0     3466            5\n",
              "2     4264        4.08         3836.0     3453            5\n",
              "3     3361        3.52         1245.0     3453            4\n",
              "4     4535        4.13         3107.0     3453            0"
            ]
          },
          "metadata": {
            "tags": []
          },
          "execution_count": 4
        }
      ]
    },
    {
      "cell_type": "code",
      "metadata": {
        "id": "wwQrgjT4gq4G",
        "colab_type": "code",
        "colab": {
          "base_uri": "https://localhost:8080/",
          "height": 359
        },
        "outputId": "832a70ec-6225-43d0-c909-b340e03c5e32"
      },
      "source": [
        "rating_count = pd.DataFrame(books, columns=['book_id','no_of_ratings'])\n",
        "rating_count.sort_values('no_of_ratings', ascending=False).drop_duplicates().head(10)"
      ],
      "execution_count": 7,
      "outputs": [
        {
          "output_type": "execute_result",
          "data": {
            "text/html": [
              "<div>\n",
              "<style scoped>\n",
              "    .dataframe tbody tr th:only-of-type {\n",
              "        vertical-align: middle;\n",
              "    }\n",
              "\n",
              "    .dataframe tbody tr th {\n",
              "        vertical-align: top;\n",
              "    }\n",
              "\n",
              "    .dataframe thead th {\n",
              "        text-align: right;\n",
              "    }\n",
              "</style>\n",
              "<table border=\"1\" class=\"dataframe\">\n",
              "  <thead>\n",
              "    <tr style=\"text-align: right;\">\n",
              "      <th></th>\n",
              "      <th>book_id</th>\n",
              "      <th>no_of_ratings</th>\n",
              "    </tr>\n",
              "  </thead>\n",
              "  <tbody>\n",
              "    <tr>\n",
              "      <th>529</th>\n",
              "      <td>4755</td>\n",
              "      <td>9936.0</td>\n",
              "    </tr>\n",
              "    <tr>\n",
              "      <th>707</th>\n",
              "      <td>2409</td>\n",
              "      <td>9768.0</td>\n",
              "    </tr>\n",
              "    <tr>\n",
              "      <th>1252</th>\n",
              "      <td>2194</td>\n",
              "      <td>9754.0</td>\n",
              "    </tr>\n",
              "    <tr>\n",
              "      <th>1384</th>\n",
              "      <td>4696</td>\n",
              "      <td>9754.0</td>\n",
              "    </tr>\n",
              "    <tr>\n",
              "      <th>747</th>\n",
              "      <td>1616</td>\n",
              "      <td>9542.0</td>\n",
              "    </tr>\n",
              "    <tr>\n",
              "      <th>713</th>\n",
              "      <td>722</td>\n",
              "      <td>9542.0</td>\n",
              "    </tr>\n",
              "    <tr>\n",
              "      <th>1093</th>\n",
              "      <td>3004</td>\n",
              "      <td>9533.0</td>\n",
              "    </tr>\n",
              "    <tr>\n",
              "      <th>1124</th>\n",
              "      <td>3073</td>\n",
              "      <td>9533.0</td>\n",
              "    </tr>\n",
              "    <tr>\n",
              "      <th>2222</th>\n",
              "      <td>2240</td>\n",
              "      <td>9460.0</td>\n",
              "    </tr>\n",
              "    <tr>\n",
              "      <th>282</th>\n",
              "      <td>433</td>\n",
              "      <td>9451.0</td>\n",
              "    </tr>\n",
              "  </tbody>\n",
              "</table>\n",
              "</div>"
            ],
            "text/plain": [
              "      book_id  no_of_ratings\n",
              "529      4755         9936.0\n",
              "707      2409         9768.0\n",
              "1252     2194         9754.0\n",
              "1384     4696         9754.0\n",
              "747      1616         9542.0\n",
              "713       722         9542.0\n",
              "1093     3004         9533.0\n",
              "1124     3073         9533.0\n",
              "2222     2240         9460.0\n",
              "282       433         9451.0"
            ]
          },
          "metadata": {
            "tags": []
          },
          "execution_count": 7
        }
      ]
    },
    {
      "cell_type": "code",
      "metadata": {
        "id": "ujXkTcQUh3iI",
        "colab_type": "code",
        "colab": {
          "base_uri": "https://localhost:8080/",
          "height": 204
        },
        "outputId": "cab4a645-9747-43e4-e17c-39ac5a998ae6"
      },
      "source": [
        "most_rated_books = pd.DataFrame([4755, 2409, 2194, 4696, 1616], index=np.arange(5), columns=['book_id'])\n",
        "detail = pd.merge(most_rated_books, data, on='book_id')\n",
        "detail"
      ],
      "execution_count": 9,
      "outputs": [
        {
          "output_type": "execute_result",
          "data": {
            "text/html": [
              "<div>\n",
              "<style scoped>\n",
              "    .dataframe tbody tr th:only-of-type {\n",
              "        vertical-align: middle;\n",
              "    }\n",
              "\n",
              "    .dataframe tbody tr th {\n",
              "        vertical-align: top;\n",
              "    }\n",
              "\n",
              "    .dataframe thead th {\n",
              "        text-align: right;\n",
              "    }\n",
              "</style>\n",
              "<table border=\"1\" class=\"dataframe\">\n",
              "  <thead>\n",
              "    <tr style=\"text-align: right;\">\n",
              "      <th></th>\n",
              "      <th>book_id</th>\n",
              "      <th>genre</th>\n",
              "      <th>name</th>\n",
              "      <th>author</th>\n",
              "    </tr>\n",
              "  </thead>\n",
              "  <tbody>\n",
              "    <tr>\n",
              "      <th>0</th>\n",
              "      <td>4755</td>\n",
              "      <td>Law</td>\n",
              "      <td>One Man Out: Curt Flood versus Baseball (Landm...</td>\n",
              "      <td>Robert M. Goldman</td>\n",
              "    </tr>\n",
              "    <tr>\n",
              "      <th>1</th>\n",
              "      <td>2409</td>\n",
              "      <td>History</td>\n",
              "      <td>In Defense of History</td>\n",
              "      <td>Richard J. Evans</td>\n",
              "    </tr>\n",
              "    <tr>\n",
              "      <th>2</th>\n",
              "      <td>2194</td>\n",
              "      <td>Test Preparation</td>\n",
              "      <td>CLEP Micro &amp; Macro Economics Examinations Esse...</td>\n",
              "      <td>ExamREVIEW</td>\n",
              "    </tr>\n",
              "    <tr>\n",
              "      <th>3</th>\n",
              "      <td>4696</td>\n",
              "      <td>Crafts, Hobbies &amp; Home</td>\n",
              "      <td>Mosaic Basics: Everything You Need to Know to ...</td>\n",
              "      <td>Teresa Mills</td>\n",
              "    </tr>\n",
              "    <tr>\n",
              "      <th>4</th>\n",
              "      <td>1616</td>\n",
              "      <td>Arts &amp; Photography</td>\n",
              "      <td>The Art of The Incredibles</td>\n",
              "      <td>Mark Cotta Vaz</td>\n",
              "    </tr>\n",
              "  </tbody>\n",
              "</table>\n",
              "</div>"
            ],
            "text/plain": [
              "   book_id  ...             author\n",
              "0     4755  ...  Robert M. Goldman\n",
              "1     2409  ...   Richard J. Evans\n",
              "2     2194  ...         ExamREVIEW\n",
              "3     4696  ...       Teresa Mills\n",
              "4     1616  ...     Mark Cotta Vaz\n",
              "\n",
              "[5 rows x 4 columns]"
            ]
          },
          "metadata": {
            "tags": []
          },
          "execution_count": 9
        }
      ]
    },
    {
      "cell_type": "code",
      "metadata": {
        "id": "3n6TUugLkF4p",
        "colab_type": "code",
        "colab": {
          "base_uri": "https://localhost:8080/",
          "height": 102
        },
        "outputId": "ef21ad09-0d5b-420c-a9e3-75c6546de5b1"
      },
      "source": [
        "most_rated_book = pd.DataFrame(books, columns=['book_id', 'user_id', 'avg_rating', 'no_of_ratings'])\n",
        "most_rated_book.max()"
      ],
      "execution_count": 10,
      "outputs": [
        {
          "output_type": "execute_result",
          "data": {
            "text/plain": [
              "book_id          4999.0\n",
              "user_id          7131.0\n",
              "avg_rating          5.0\n",
              "no_of_ratings    9936.0\n",
              "dtype: float64"
            ]
          },
          "metadata": {
            "tags": []
          },
          "execution_count": 10
        }
      ]
    },
    {
      "cell_type": "code",
      "metadata": {
        "id": "eDkvX1eMkOh5",
        "colab_type": "code",
        "colab": {
          "base_uri": "https://localhost:8080/",
          "height": 297
        },
        "outputId": "5b8a59d7-cf12-4f7e-eeb1-431663c7355c"
      },
      "source": [
        "most_rated_book.describe()"
      ],
      "execution_count": 11,
      "outputs": [
        {
          "output_type": "execute_result",
          "data": {
            "text/html": [
              "<div>\n",
              "<style scoped>\n",
              "    .dataframe tbody tr th:only-of-type {\n",
              "        vertical-align: middle;\n",
              "    }\n",
              "\n",
              "    .dataframe tbody tr th {\n",
              "        vertical-align: top;\n",
              "    }\n",
              "\n",
              "    .dataframe thead th {\n",
              "        text-align: right;\n",
              "    }\n",
              "</style>\n",
              "<table border=\"1\" class=\"dataframe\">\n",
              "  <thead>\n",
              "    <tr style=\"text-align: right;\">\n",
              "      <th></th>\n",
              "      <th>book_id</th>\n",
              "      <th>user_id</th>\n",
              "      <th>avg_rating</th>\n",
              "      <th>no_of_ratings</th>\n",
              "    </tr>\n",
              "  </thead>\n",
              "  <tbody>\n",
              "    <tr>\n",
              "      <th>count</th>\n",
              "      <td>2312.000000</td>\n",
              "      <td>2312.000000</td>\n",
              "      <td>2310.000000</td>\n",
              "      <td>2310.000000</td>\n",
              "    </tr>\n",
              "    <tr>\n",
              "      <th>mean</th>\n",
              "      <td>2515.098616</td>\n",
              "      <td>3108.624135</td>\n",
              "      <td>3.867026</td>\n",
              "      <td>2145.869264</td>\n",
              "    </tr>\n",
              "    <tr>\n",
              "      <th>std</th>\n",
              "      <td>1453.933954</td>\n",
              "      <td>1111.356799</td>\n",
              "      <td>1.010567</td>\n",
              "      <td>2746.151516</td>\n",
              "    </tr>\n",
              "    <tr>\n",
              "      <th>min</th>\n",
              "      <td>6.000000</td>\n",
              "      <td>117.000000</td>\n",
              "      <td>0.000000</td>\n",
              "      <td>0.000000</td>\n",
              "    </tr>\n",
              "    <tr>\n",
              "      <th>25%</th>\n",
              "      <td>1257.000000</td>\n",
              "      <td>3221.000000</td>\n",
              "      <td>3.000000</td>\n",
              "      <td>101.000000</td>\n",
              "    </tr>\n",
              "    <tr>\n",
              "      <th>50%</th>\n",
              "      <td>2610.000000</td>\n",
              "      <td>3471.000000</td>\n",
              "      <td>4.000000</td>\n",
              "      <td>660.500000</td>\n",
              "    </tr>\n",
              "    <tr>\n",
              "      <th>75%</th>\n",
              "      <td>3729.000000</td>\n",
              "      <td>3476.000000</td>\n",
              "      <td>4.730000</td>\n",
              "      <td>3608.000000</td>\n",
              "    </tr>\n",
              "    <tr>\n",
              "      <th>max</th>\n",
              "      <td>4999.000000</td>\n",
              "      <td>7131.000000</td>\n",
              "      <td>5.000000</td>\n",
              "      <td>9936.000000</td>\n",
              "    </tr>\n",
              "  </tbody>\n",
              "</table>\n",
              "</div>"
            ],
            "text/plain": [
              "           book_id      user_id   avg_rating  no_of_ratings\n",
              "count  2312.000000  2312.000000  2310.000000    2310.000000\n",
              "mean   2515.098616  3108.624135     3.867026    2145.869264\n",
              "std    1453.933954  1111.356799     1.010567    2746.151516\n",
              "min       6.000000   117.000000     0.000000       0.000000\n",
              "25%    1257.000000  3221.000000     3.000000     101.000000\n",
              "50%    2610.000000  3471.000000     4.000000     660.500000\n",
              "75%    3729.000000  3476.000000     4.730000    3608.000000\n",
              "max    4999.000000  7131.000000     5.000000    9936.000000"
            ]
          },
          "metadata": {
            "tags": []
          },
          "execution_count": 11
        }
      ]
    },
    {
      "cell_type": "code",
      "metadata": {
        "id": "cSBn8l9NkR2s",
        "colab_type": "code",
        "colab": {
          "base_uri": "https://localhost:8080/",
          "height": 102
        },
        "outputId": "413e8609-2f37-46df-9ee3-a05acf9452d6"
      },
      "source": [
        "data['author'].describe()"
      ],
      "execution_count": 12,
      "outputs": [
        {
          "output_type": "execute_result",
          "data": {
            "text/plain": [
              "count                      1011\n",
              "unique                      992\n",
              "top       McGraw-Hill Education\n",
              "freq                          3\n",
              "Name: author, dtype: object"
            ]
          },
          "metadata": {
            "tags": []
          },
          "execution_count": 12
        }
      ]
    },
    {
      "cell_type": "code",
      "metadata": {
        "id": "HAZ_33OBkV0x",
        "colab_type": "code",
        "colab": {}
      },
      "source": [
        ""
      ],
      "execution_count": null,
      "outputs": []
    }
  ]
}